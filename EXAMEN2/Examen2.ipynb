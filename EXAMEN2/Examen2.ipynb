{
  "cells": [
    {
      "cell_type": "markdown",
      "metadata": {
        "id": "view-in-github",
        "colab_type": "text"
      },
      "source": [
        "<a href=\"https://colab.research.google.com/github/kevinluyo42/UTEC_PROGRAMACION101/blob/main/EXAMEN2/Examen2.ipynb\" target=\"_parent\"><img src=\"https://colab.research.google.com/assets/colab-badge.svg\" alt=\"Open In Colab\"/></a>"
      ]
    },
    {
      "cell_type": "markdown",
      "metadata": {
        "id": "DklW25idumqY"
      },
      "source": [
        "## Pregunta 1"
      ]
    },
    {
      "cell_type": "code",
      "execution_count": 17,
      "metadata": {
        "id": "c1i7l5FVuR5a",
        "colab": {
          "base_uri": "https://localhost:8080/"
        },
        "outputId": "b2b10b41-fc21-4e92-e6fb-2e1818099d33"
      },
      "outputs": [
        {
          "output_type": "stream",
          "name": "stdout",
          "text": [
            "['Breaking Python', 'Data Science 101', 'Machine Love', 'Debug Wars']\n"
          ]
        }
      ],
      "source": [
        "#Convertir a lista\n",
        "catalogo_popular = (\"Breaking Python\", \"Data Science 101\", \"Machine Love\", \"Debug Wars\")\n",
        "lista_catalogo = list(catalogo_popular)\n",
        "print(lista_catalogo)"
      ]
    },
    {
      "cell_type": "code",
      "execution_count": 18,
      "metadata": {
        "colab": {
          "base_uri": "https://localhost:8080/"
        },
        "id": "GkKqt8YYutCn",
        "outputId": "6d1cdfad-90a7-4f8c-fa85-8b43f39d1f7f"
      },
      "outputs": [
        {
          "output_type": "stream",
          "name": "stdout",
          "text": [
            "['Breaking Python', 'Data Science 101', 'Machine Love', 'Debug Wars', 'Neural Networks']\n"
          ]
        }
      ],
      "source": [
        "#Agregar la serie nueva\n",
        "lista_catalogo.append(\"Neural Networks\")\n",
        "print(lista_catalogo)"
      ]
    },
    {
      "cell_type": "code",
      "source": [
        "#Reemplazar la serie\n",
        "lista_catalogo[lista_catalogo.index(\"Debug Wars\")] = \"AI Rebellion\"\n",
        "print(lista_catalogo)"
      ],
      "metadata": {
        "colab": {
          "base_uri": "https://localhost:8080/"
        },
        "id": "caBg-1hUvUPm",
        "outputId": "99a0c9c6-7566-4a79-a63c-ad435ea792ea"
      },
      "execution_count": 19,
      "outputs": [
        {
          "output_type": "stream",
          "name": "stdout",
          "text": [
            "['Breaking Python', 'Data Science 101', 'Machine Love', 'AI Rebellion', 'Neural Networks']\n"
          ]
        }
      ]
    },
    {
      "cell_type": "code",
      "source": [
        "#Ordenar alfabeticamente\n",
        "lista_catalogo.sort()\n",
        "print(lista_catalogo)"
      ],
      "metadata": {
        "colab": {
          "base_uri": "https://localhost:8080/"
        },
        "id": "w_pV8KlvvpzM",
        "outputId": "d292db9e-3be8-4de5-bfe9-059a23f9b7d0"
      },
      "execution_count": 20,
      "outputs": [
        {
          "output_type": "stream",
          "name": "stdout",
          "text": [
            "['AI Rebellion', 'Breaking Python', 'Data Science 101', 'Machine Love', 'Neural Networks']\n"
          ]
        }
      ]
    },
    {
      "cell_type": "markdown",
      "source": [
        "## Pregunta 2"
      ],
      "metadata": {
        "id": "3UDf8OacwE97"
      }
    },
    {
      "cell_type": "code",
      "source": [
        "generos = [\"Drama\", \"Comedia\", \"Acción\", \"Sci-Fi\", \"Documental\", \"Terror\", \"Romance\"]"
      ],
      "metadata": {
        "id": "Qybe1sKbv6Mt"
      },
      "execution_count": 14,
      "outputs": []
    },
    {
      "cell_type": "code",
      "source": [
        "#Generos del medio\n",
        "medio = generos[2:5]\n",
        "print(medio)"
      ],
      "metadata": {
        "colab": {
          "base_uri": "https://localhost:8080/"
        },
        "id": "i1NwmYBLwIgr",
        "outputId": "cc3512d4-adf5-4e51-badc-7b5fdb6f6d4b"
      },
      "execution_count": 23,
      "outputs": [
        {
          "output_type": "stream",
          "name": "stdout",
          "text": [
            "['Acción', 'Sci-Fi', 'Documental']\n"
          ]
        }
      ]
    },
    {
      "cell_type": "code",
      "source": [
        "#Primeros 3 generos\n",
        "primeros_tres = generos[:3]\n",
        "print(primeros_tres)"
      ],
      "metadata": {
        "colab": {
          "base_uri": "https://localhost:8080/"
        },
        "id": "s7yNu8-2wP5J",
        "outputId": "060455aa-f95d-46f6-fd39-59425aa22a6d"
      },
      "execution_count": 24,
      "outputs": [
        {
          "output_type": "stream",
          "name": "stdout",
          "text": [
            "['Drama', 'Comedia', 'Acción']\n"
          ]
        }
      ]
    },
    {
      "cell_type": "code",
      "source": [
        "#Orden inverso\n",
        "inverso = generos[::-1]\n",
        "print(inverso)"
      ],
      "metadata": {
        "colab": {
          "base_uri": "https://localhost:8080/"
        },
        "id": "gmr877S5wye8",
        "outputId": "e6b4e86e-e0c0-4dde-f42a-99c02668c486"
      },
      "execution_count": 27,
      "outputs": [
        {
          "output_type": "stream",
          "name": "stdout",
          "text": [
            "['Romance', 'Terror', 'Documental', 'Sci-Fi', 'Acción', 'Comedia', 'Drama']\n"
          ]
        }
      ]
    },
    {
      "cell_type": "markdown",
      "source": [
        "##Pregunta 3"
      ],
      "metadata": {
        "id": "kKrw2HiCxl7V"
      }
    },
    {
      "cell_type": "code",
      "source": [
        "ratings = [4.5, 3.0, 5.0, 2.5, 4.0, 1.5]"
      ],
      "metadata": {
        "id": "U71uNFAtxlDT"
      },
      "execution_count": 28,
      "outputs": []
    },
    {
      "cell_type": "code",
      "source": [
        "#Rating mayores a 3.5\n",
        "r_altos = [r for r in ratings if r > 3.5]\n",
        "print(r_altos)"
      ],
      "metadata": {
        "colab": {
          "base_uri": "https://localhost:8080/"
        },
        "id": "Hm9sttNMw3c4",
        "outputId": "d5f1ce41-3f8d-46f9-880c-b77e9a513a37"
      },
      "execution_count": 29,
      "outputs": [
        {
          "output_type": "stream",
          "name": "stdout",
          "text": [
            "[4.5, 5.0, 4.0]\n"
          ]
        }
      ]
    },
    {
      "cell_type": "code",
      "source": [
        "#Ratings a escala 100\n",
        "r_100 = [r*20 for r in ratings]\n",
        "print(r_100)"
      ],
      "metadata": {
        "colab": {
          "base_uri": "https://localhost:8080/"
        },
        "id": "4gce-EMfx12r",
        "outputId": "5bea79ac-54d6-46ff-bdd6-3b3b612c4bd9"
      },
      "execution_count": 30,
      "outputs": [
        {
          "output_type": "stream",
          "name": "stdout",
          "text": [
            "[90.0, 60.0, 100.0, 50.0, 80.0, 30.0]\n"
          ]
        }
      ]
    },
    {
      "cell_type": "code",
      "source": [
        "#Rating por Alta, Media y Baja\n",
        "clasificacion = [ \"Alta\" if r > 4 else \"Media\" if r >= 3 else \"Baja\" for r in ratings]\n",
        "print(clasificacion)"
      ],
      "metadata": {
        "colab": {
          "base_uri": "https://localhost:8080/"
        },
        "id": "iqPoZyySyGpM",
        "outputId": "80f29465-cbce-4a2d-d836-28bab5a28bd3"
      },
      "execution_count": 32,
      "outputs": [
        {
          "output_type": "stream",
          "name": "stdout",
          "text": [
            "['Alta', 'Media', 'Alta', 'Baja', 'Media', 'Baja']\n"
          ]
        }
      ]
    },
    {
      "cell_type": "markdown",
      "source": [
        "##Pregunta 4"
      ],
      "metadata": {
        "id": "gA5prYDIzLIT"
      }
    },
    {
      "cell_type": "code",
      "source": [
        "historial = {\n",
        "    \"Breaking Python\": 3,\n",
        "    \"Machine Love\": 5,\n",
        "    \"Data Science 101\": 2\n",
        "}"
      ],
      "metadata": {
        "id": "76Pst4XByQoN"
      },
      "execution_count": 49,
      "outputs": []
    },
    {
      "cell_type": "code",
      "source": [
        "#Aumentar en 1\n",
        "historial[\"Data Science 101\"] += 1\n",
        "print(historial)"
      ],
      "metadata": {
        "colab": {
          "base_uri": "https://localhost:8080/"
        },
        "id": "Mv-eeLA6zQIM",
        "outputId": "bb4754d8-f8b1-42a9-cd64-5673bfc8dea5"
      },
      "execution_count": 50,
      "outputs": [
        {
          "output_type": "stream",
          "name": "stdout",
          "text": [
            "{'Breaking Python': 3, 'Machine Love': 5, 'Data Science 101': 3}\n"
          ]
        }
      ]
    },
    {
      "cell_type": "code",
      "source": [
        "#Añadir serie\n",
        "historial[\"AI Rebellion\"] = 1\n",
        "print(historial)"
      ],
      "metadata": {
        "colab": {
          "base_uri": "https://localhost:8080/"
        },
        "id": "klaGK_NGzV3c",
        "outputId": "d3089ac3-8f15-48f0-fea5-a68268c1bc59"
      },
      "execution_count": 51,
      "outputs": [
        {
          "output_type": "stream",
          "name": "stdout",
          "text": [
            "{'Breaking Python': 3, 'Machine Love': 5, 'Data Science 101': 3, 'AI Rebellion': 1}\n"
          ]
        }
      ]
    },
    {
      "cell_type": "code",
      "source": [
        "#Eliminar serie\n",
        "del historial[\"Machine Love\"]\n",
        "print(historial)"
      ],
      "metadata": {
        "colab": {
          "base_uri": "https://localhost:8080/"
        },
        "id": "4DllPOlS0hoM",
        "outputId": "1bfda003-b109-4dfa-b9e5-473a2795ac59"
      },
      "execution_count": 52,
      "outputs": [
        {
          "output_type": "stream",
          "name": "stdout",
          "text": [
            "{'Breaking Python': 3, 'Data Science 101': 3, 'AI Rebellion': 1}\n"
          ]
        }
      ]
    },
    {
      "cell_type": "code",
      "source": [
        "#Series vistas mas de 2 veces\n",
        "series = [serie for serie, vistas in historial.items() if vistas > 2]\n",
        "print(series)"
      ],
      "metadata": {
        "colab": {
          "base_uri": "https://localhost:8080/"
        },
        "id": "YNbmHpVC0ku1",
        "outputId": "ee07a9af-f408-49df-a556-e71db47977e3"
      },
      "execution_count": 53,
      "outputs": [
        {
          "output_type": "stream",
          "name": "stdout",
          "text": [
            "['Breaking Python', 'Data Science 101']\n"
          ]
        }
      ]
    },
    {
      "cell_type": "markdown",
      "source": [
        "##Pregunta 5"
      ],
      "metadata": {
        "id": "m3x0L4hT1Bc9"
      }
    },
    {
      "cell_type": "code",
      "source": [
        "usuarios_serie_A = {\"ana\", \"luis\", \"pedro\", \"maria\"}\n",
        "usuarios_serie_B = {\"maria\", \"pedro\", \"carla\", \"lucas\"}"
      ],
      "metadata": {
        "id": "kcCTvrVM07hQ"
      },
      "execution_count": 54,
      "outputs": []
    },
    {
      "cell_type": "code",
      "source": [
        "#Vieron ambas series\n",
        "ambas = usuarios_serie_A & usuarios_serie_B\n",
        "print(ambas)"
      ],
      "metadata": {
        "colab": {
          "base_uri": "https://localhost:8080/"
        },
        "id": "Xh43h01s1FT1",
        "outputId": "3557848b-c38a-4ea1-eca2-e2a1aeb21f40"
      },
      "execution_count": 55,
      "outputs": [
        {
          "output_type": "stream",
          "name": "stdout",
          "text": [
            "{'pedro', 'maria'}\n"
          ]
        }
      ]
    },
    {
      "cell_type": "code",
      "source": [
        "#Vieron solo A\n",
        "A = usuarios_serie_A - usuarios_serie_B\n",
        "print(A)"
      ],
      "metadata": {
        "colab": {
          "base_uri": "https://localhost:8080/"
        },
        "id": "EGwsWBPj1WXg",
        "outputId": "3b3813ac-1f2f-4742-9e13-f18444276176"
      },
      "execution_count": 56,
      "outputs": [
        {
          "output_type": "stream",
          "name": "stdout",
          "text": [
            "{'ana', 'luis'}\n"
          ]
        }
      ]
    },
    {
      "cell_type": "code",
      "source": [
        "#Vieron al menos una de las 2\n",
        "usuarios_unicos = usuarios_serie_A | usuarios_serie_B\n",
        "print(usuarios_unicos)"
      ],
      "metadata": {
        "colab": {
          "base_uri": "https://localhost:8080/"
        },
        "id": "myyxt4yY1co6",
        "outputId": "663e9bbf-2a2f-4783-f9ed-f09765bef1a2"
      },
      "execution_count": 57,
      "outputs": [
        {
          "output_type": "stream",
          "name": "stdout",
          "text": [
            "{'lucas', 'ana', 'carla', 'pedro', 'maria', 'luis'}\n"
          ]
        }
      ]
    },
    {
      "cell_type": "markdown",
      "source": [
        "##Pregunta 6"
      ],
      "metadata": {
        "id": "c2y0XqvF14DT"
      }
    },
    {
      "cell_type": "code",
      "source": [
        "recomendaciones = {\n",
        "    \"ana\": {\"Machine Love\", \"AI Rebellion\"},\n",
        "    \"luis\": {\"AI Rebellion\", \"Debug Wars\"},\n",
        "    \"pedro\": {\"Debug Wars\", \"Machine Love\"}\n",
        "}"
      ],
      "metadata": {
        "id": "ysWBUi9u1mag"
      },
      "execution_count": 58,
      "outputs": []
    },
    {
      "cell_type": "code",
      "source": [
        "#Series recomendadas a todos\n",
        "todos = recomendaciones[\"ana\"] & recomendaciones[\"luis\"] & recomendaciones[\"pedro\"]\n",
        "if len(todos) == 0:\n",
        "    print(\"No hay series recomendadas a todos\")\n",
        "else:\n",
        "  print(todos)"
      ],
      "metadata": {
        "colab": {
          "base_uri": "https://localhost:8080/"
        },
        "id": "34BkqEvb17ZL",
        "outputId": "275be217-4c9b-4323-bb47-bc5495f8d05a"
      },
      "execution_count": 70,
      "outputs": [
        {
          "output_type": "stream",
          "name": "stdout",
          "text": [
            "No hay series recomendadas a todos\n"
          ]
        }
      ]
    },
    {
      "cell_type": "code",
      "source": [
        "#Series recomendadas a almenos 2 personas\n",
        "almenos_dos = (recomendaciones[\"ana\"] & recomendaciones[\"luis\"]) | (recomendaciones[\"ana\"] & recomendaciones[\"pedro\"]) | (recomendaciones[\"luis\"] & recomendaciones[\"pedro\"])\n",
        "if len(almenos_dos) == 0:\n",
        "    print(\"No hay series recomendadas a almenos 2 personas\")\n",
        "else:\n",
        "  print(almenos_dos)"
      ],
      "metadata": {
        "colab": {
          "base_uri": "https://localhost:8080/"
        },
        "id": "0ATgI-pg2JaU",
        "outputId": "d7af43a1-e2ac-447e-ad34-9ce2064e7d2c"
      },
      "execution_count": 72,
      "outputs": [
        {
          "output_type": "stream",
          "name": "stdout",
          "text": [
            "{'Debug Wars', 'AI Rebellion', 'Machine Love'}\n"
          ]
        }
      ]
    },
    {
      "cell_type": "code",
      "source": [
        "#Series recomendadas a solo 1 persona (restamos el set \"almenos dos\")\n",
        "solo_una = (recomendaciones[\"ana\"] | recomendaciones[\"luis\"] | recomendaciones[\"pedro\"]) - almenos_dos\n",
        "if len(solo_una) == 0:\n",
        "    print(\"No hay series recomendadas solo 1 persona\")\n",
        "else:\n",
        "  print(solo_una)"
      ],
      "metadata": {
        "colab": {
          "base_uri": "https://localhost:8080/"
        },
        "id": "dSXoeKjx4KFa",
        "outputId": "2b2feac9-f420-4fea-96f1-ae8ebb2214ac"
      },
      "execution_count": 73,
      "outputs": [
        {
          "output_type": "stream",
          "name": "stdout",
          "text": [
            "No hay series recomendadas solo 1 persona\n"
          ]
        }
      ]
    },
    {
      "cell_type": "markdown",
      "source": [
        "##Pregunta 7"
      ],
      "metadata": {
        "id": "X9coXaqX5UMI"
      }
    },
    {
      "cell_type": "code",
      "source": [
        "puntuaciones = [(\"Breaking Python\", 4.0), (\"AI Rebellion\", 5.0), (\"Debug Wars\", 2.0)]"
      ],
      "metadata": {
        "id": "GBwmuR0D4a3H"
      },
      "execution_count": 74,
      "outputs": []
    },
    {
      "cell_type": "code",
      "source": [
        "calificaciones = {serie: ( \"Excelente\" if rating >= 4.5 else \"Buena\" if rating >= 3 else \"Regular\") for serie, rating in puntuaciones}\n",
        "print(calificaciones)"
      ],
      "metadata": {
        "colab": {
          "base_uri": "https://localhost:8080/"
        },
        "id": "YEUdbGyz5WB9",
        "outputId": "c85dbe32-16da-49a9-907e-66e127e8f9ca"
      },
      "execution_count": 76,
      "outputs": [
        {
          "output_type": "stream",
          "name": "stdout",
          "text": [
            "{'Breaking Python': 'Buena', 'AI Rebellion': 'Excelente', 'Debug Wars': 'Regular'}\n"
          ]
        }
      ]
    },
    {
      "cell_type": "markdown",
      "source": [
        "##Pregunta 8"
      ],
      "metadata": {
        "id": "X08NxF7Z526T"
      }
    },
    {
      "cell_type": "code",
      "source": [
        "gustos = {\n",
        "    \"ana\": [\"Sci-Fi\", \"Drama\", \"Documental\"],\n",
        "    \"luis\": [\"Comedia\", \"Acción\", \"Sci-Fi\"],\n",
        "    \"pedro\": [\"Drama\", \"Sci-Fi\", \"Romance\"]\n",
        "}"
      ],
      "metadata": {
        "id": "Ka4vdNmB5XpG"
      },
      "execution_count": 77,
      "outputs": []
    },
    {
      "cell_type": "code",
      "source": [
        "#Primeros generos favoritos\n",
        "primero = [generos[0] for generos in gustos.values()]\n",
        "print(primero)"
      ],
      "metadata": {
        "colab": {
          "base_uri": "https://localhost:8080/"
        },
        "id": "pJVxlq5n59EA",
        "outputId": "5c7617f2-7e4d-4d14-fa78-2ddff15ee19c"
      },
      "execution_count": 81,
      "outputs": [
        {
          "output_type": "stream",
          "name": "stdout",
          "text": [
            "['Sci-Fi', 'Comedia', 'Drama']\n"
          ]
        }
      ]
    },
    {
      "cell_type": "code",
      "source": [
        "#Generos sin repeticion\n",
        "todos = set()\n",
        "for generos in gustos.values():\n",
        "    todos.update(generos)\n",
        "todos = list(todos)\n",
        "print(todos)"
      ],
      "metadata": {
        "colab": {
          "base_uri": "https://localhost:8080/"
        },
        "id": "GY6D8QOp6KSP",
        "outputId": "ebde679c-7267-48f0-f7c8-37becb7a89cb"
      },
      "execution_count": 85,
      "outputs": [
        {
          "output_type": "stream",
          "name": "stdout",
          "text": [
            "['Comedia', 'Documental', 'Drama', 'Romance', 'Acción', 'Sci-Fi']\n"
          ]
        }
      ]
    },
    {
      "cell_type": "code",
      "source": [
        "#Genero con mayor repeticion en la primera posicion\n",
        "primer = [generos[0] for generos in gustos.values()]\n",
        "comun= max(primer, key=primer.count)\n",
        "print(comun)"
      ],
      "metadata": {
        "colab": {
          "base_uri": "https://localhost:8080/"
        },
        "id": "ZOyqojp76fEw",
        "outputId": "68401116-a2e1-41ca-cb05-d2c5eecac8bb"
      },
      "execution_count": 89,
      "outputs": [
        {
          "output_type": "stream",
          "name": "stdout",
          "text": [
            "Sci-Fi\n"
          ]
        }
      ]
    },
    {
      "cell_type": "code",
      "source": [],
      "metadata": {
        "id": "Hne7gYQ97Psk"
      },
      "execution_count": null,
      "outputs": []
    }
  ],
  "metadata": {
    "colab": {
      "provenance": [],
      "authorship_tag": "ABX9TyN1pkF42J4i2wlJfVvJ+WSq",
      "include_colab_link": true
    },
    "kernelspec": {
      "display_name": "Python 3",
      "name": "python3"
    },
    "language_info": {
      "name": "python"
    }
  },
  "nbformat": 4,
  "nbformat_minor": 0
}