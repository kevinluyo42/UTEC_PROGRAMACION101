{
  "nbformat": 4,
  "nbformat_minor": 0,
  "metadata": {
    "colab": {
      "provenance": [],
      "include_colab_link": true
    },
    "kernelspec": {
      "name": "python3",
      "display_name": "Python 3"
    },
    "language_info": {
      "name": "python"
    }
  },
  "cells": [
    {
      "cell_type": "markdown",
      "metadata": {
        "id": "view-in-github",
        "colab_type": "text"
      },
      "source": [
        "<a href=\"https://colab.research.google.com/github/kevinluyo42/UTEC_PROGRAMACION101/blob/main/CLASE3/Tarea.ipynb\" target=\"_parent\"><img src=\"https://colab.research.google.com/assets/colab-badge.svg\" alt=\"Open In Colab\"/></a>"
      ]
    },
    {
      "cell_type": "markdown",
      "source": [
        "<img src=\"https://posgrado.utec.edu.pe/sites/default/files/2023-08/Testimonial-home-2.jpg\" alt=\"HTML5 Icon\" width=\"900\" height=\"250\" >\n"
      ],
      "metadata": {
        "id": "cqadFmlrgAXp"
      }
    },
    {
      "cell_type": "markdown",
      "source": [
        "# **Ejercicios - Variables y Expresiones**"
      ],
      "metadata": {
        "id": "tW1-ULBmb0Cm"
      }
    },
    {
      "cell_type": "markdown",
      "source": [
        "**Ejercicio 1: Calculadora de ahorro semanal**\n",
        "\n",
        "Pide al usuario cuánto dinero ahorra cada día de lunes a domingo. Al final, muestra cuánto ahorró en total esa semana y cuánto tendría en un mes si repite el mismo patrón cada semana.\n",
        "\n",
        "- Pista: Usar 7 variables (ahorro_lunes, ahorro_martes, …), input(), float(), +, *."
      ],
      "metadata": {
        "id": "9igzfvIKqNGr"
      }
    },
    {
      "cell_type": "code",
      "source": [
        "try:  #Asegurar que los datos ingresados sean floats\n",
        "  ahorro_lunes = float(input(\"¿Cuánto ahorras el lunes? \"))\n",
        "  ahorro_martes = float(input(\"¿Cuánto ahorras el martes? \"))\n",
        "  ahorro_miercoles = float(input(\"¿Cuánto ahorras el miércoles? \"))\n",
        "  ahorro_jueves = float(input(\"¿Cuánto ahorras el jueves? \"))\n",
        "  ahorro_viernes = float(input(\"¿Cuánto ahorras el viernes? \"))\n",
        "  ahorro_sabado = float(input(\"¿Cuánto ahorras el sábado? \"))\n",
        "  ahorro_domingo = float(input(\"¿Cuánto ahorras el domingo? \"))\n",
        "\n",
        "  # Calculo del ahorro semanal\n",
        "  total_semanal = ahorro_lunes + ahorro_martes + ahorro_miercoles + ahorro_jueves + ahorro_viernes + ahorro_sabado + ahorro_domingo\n",
        "\n",
        "  # Calculo del ahorro mensual\n",
        "  total_mensual = total_semanal * 4\n",
        "\n",
        "  # Mostrar resultados\n",
        "  print(f\"\\nTotal ahorrado en la semana: S/.{total_semanal:.2f}\")\n",
        "  print(f\"El ahorro mensual (manteniendo el ahorro semanal constante será de S/.{total_mensual:.2f} en un mes.\")\n",
        "except:\n",
        "  print(\"Ingresar valores numericos!\")"
      ],
      "metadata": {
        "id": "BX-O1-4wqWF9",
        "colab": {
          "base_uri": "https://localhost:8080/"
        },
        "outputId": "298bfdfd-64a5-42de-fc30-a4ed292d7711"
      },
      "execution_count": 9,
      "outputs": [
        {
          "output_type": "stream",
          "name": "stdout",
          "text": [
            "¿Cuánto ahorras el lunes? a\n",
            "Ingresar valores numericos!\n"
          ]
        }
      ]
    },
    {
      "cell_type": "markdown",
      "source": [
        "**Ejercicio 2: Conversor de segundos**\n",
        "\n",
        "Solicita una cantidad total de segundos y muestra cuántos minutos y segundos representa.\n",
        "\n",
        "Ejemplo: 130 segundos → 2 minutos y 10 segundos\n",
        "* Pista: Usar // y %\n"
      ],
      "metadata": {
        "id": "oLaw6UggqV3E"
      }
    },
    {
      "cell_type": "code",
      "source": [
        "try:\n",
        "  total_segundos = float(input(\"Ingresa la cantidad total de segundos: \"))\n",
        "\n",
        "  minutos = int(total_segundos) // 60\n",
        "  segundos = int(total_segundos) % 60\n",
        "\n",
        "  # Mostrar el resultado\n",
        "  print(f\"\\n{int(total_segundos)} segundos equivalen a {minutos} minuto(s) y {segundos} segundo(s).\")\n",
        "\n",
        "except:\n",
        "  print(\"Ingresar un valor numérico válido!\")"
      ],
      "metadata": {
        "id": "bAuxBROrqaWb",
        "colab": {
          "base_uri": "https://localhost:8080/"
        },
        "outputId": "5dee3e27-bbf6-4a43-e988-7dd521ffa3c3"
      },
      "execution_count": 11,
      "outputs": [
        {
          "output_type": "stream",
          "name": "stdout",
          "text": [
            "Ingresa la cantidad total de segundos: 70\n",
            "\n",
            "70 segundos equivalen a 1 minuto(s) y 10 segundo(s).\n"
          ]
        }
      ]
    },
    {
      "cell_type": "markdown",
      "source": [
        "**Ejercicio 3: Puntuación de juego**\n",
        "\n",
        "Un videojuego otorga:\n",
        "\n",
        "* 10 puntos por cada estrella recolectada,\n",
        "* 50 puntos por cada gema recolectada, y\n",
        "* 1 punto por cada segundo que el jugador se mantuvo vivo.\n",
        "\n",
        "Pide al usuario las tres cantidades y muestra su puntaje total.\n",
        "\n",
        "* Pista: total = estrellas*10 + gemas*50 + tiempo"
      ],
      "metadata": {
        "id": "dK4EIGoKrW2B"
      }
    },
    {
      "cell_type": "code",
      "source": [
        "try:  #Asegurar que los datos ingresados sean int\n",
        "  estrellas = int(input(\"Ingresa numero de estrellas recolectadas\"))\n",
        "  gemas = int(input(\"Ingresa numero de gemas recolectadas\"))\n",
        "  tiempo = int(input(\"Ingresa el tiempo en segundos que te mantuviste vivo\"))\n",
        "\n",
        "  # Calcular el puntaje total\n",
        "  total = (estrellas * 10) + (gemas * 50) + tiempo\n",
        "\n",
        "  print(f\"\\n¡Tu puntaje total es: {total} puntos!\")\n",
        "\n",
        "except:\n",
        "  print(\"Ingresa solo números enteros!\")"
      ],
      "metadata": {
        "id": "jkBQHQF1rlUY",
        "colab": {
          "base_uri": "https://localhost:8080/"
        },
        "outputId": "a922a335-1225-411c-bba8-24900d5ddbc0"
      },
      "execution_count": 12,
      "outputs": [
        {
          "output_type": "stream",
          "name": "stdout",
          "text": [
            "Ingresa numero de estrellas recolectadas3\n",
            "Ingresa numero de gemas recolectadas5\n",
            "Ingresa el tiempo en segundos que te mantuviste vivo20\n",
            "\n",
            "¡Tu puntaje total es: 300 puntos!\n"
          ]
        }
      ]
    },
    {
      "cell_type": "markdown",
      "source": [
        "**Ejercicio 4: Conversor de monedas con tasa personalizada**\n",
        "\n",
        "Solicita al usuario:\n",
        "\n",
        "* El monto en soles\n",
        "* La tasa de cambio a dólares\n",
        "\n",
        "Muestra el equivalente en dólares, redondeado a 2 decimales.\n",
        "\n",
        "* Pista: Usar float(), *, round(valor, 2)"
      ],
      "metadata": {
        "id": "wW9Edl_8rlt1"
      }
    },
    {
      "cell_type": "code",
      "source": [
        "try:\n",
        "  monto_soles = float(input(\"Ingresa el monto en soles: \"))\n",
        "  tasa_cambio = float(input(\"Ingresa la tasa de cambio: \"))\n",
        "\n",
        "  monto_dolares = monto_soles / tasa_cambio\n",
        "\n",
        "  print(f\"\\nEl monto total en dólares es: ${round(monto_dolares, 2)}\")\n",
        "\n",
        "except:\n",
        "  print(\"Ingresa solo valores numéricos\")"
      ],
      "metadata": {
        "id": "fTCsCohHrmQW",
        "colab": {
          "base_uri": "https://localhost:8080/"
        },
        "outputId": "e6bf2f2d-0539-4e0c-9366-006816bca82f"
      },
      "execution_count": 14,
      "outputs": [
        {
          "output_type": "stream",
          "name": "stdout",
          "text": [
            "Ingresa el monto en soles: 100\n",
            "Ingresa la tasa de cambio: 3.7\n",
            "\n",
            "El monto total en dólares es: $27.03\n"
          ]
        }
      ]
    },
    {
      "cell_type": "markdown",
      "source": [
        "**Ejercicio 5: Costo compartido de viaje**\n",
        "\n",
        "Tres amigos hacen un viaje y pagan distintos montos:\n",
        "\n",
        "* Ana pagó gasolina,\n",
        "* Luis pagó peajes,\n",
        "* Carla pagó comida.\n",
        "\n",
        "Pide los tres montos, calcula el total y cuánto debería aportar cada uno para que paguen igual.\n",
        "\n",
        "* Pista: Calcular el total y luego dividirlo entre 3"
      ],
      "metadata": {
        "id": "JYUyJAidrmnT"
      }
    },
    {
      "cell_type": "code",
      "source": [
        "try:\n",
        "  gasolina = float(input(\"Ingresar el monto que pagó Ana por la gasolina: \"))\n",
        "  peajes = float(input(\"Ingresar el monto que pagó Luis por los peajes: \"))\n",
        "  comida = float(input(\"Ingresar el monto que pagó Carla por la comida: \"))\n",
        "\n",
        "  total = gasolina + peajes + comida\n",
        "\n",
        "  aporte_individual = total / 3\n",
        "\n",
        "  #Monto total por persona\n",
        "  print(f\"\\nGasto total del viaje: S/.{total:.2f}\")\n",
        "  print(f\"Cada uno debió pagar: S/.{aporte_individual:.2f}\")\n",
        "\n",
        "  # Mostrar cuánto debe recibir o pagar cada uno\n",
        "  print(\"\\nMostrar los montos que cada uno debe dar o recibir:\")\n",
        "  print(f\"Ana {'debe recibir' if gasolina > aporte_individual else 'debe pagar'} S/.{abs(gasolina - aporte_individual):.2f}\")\n",
        "  print(f\"Luis {'debe recibir' if peajes > aporte_individual else 'debe pagar'} S/.{abs(peajes - aporte_individual):.2f}\")\n",
        "  print(f\"Carla {'debe recibir' if comida > aporte_individual else 'debe pagar'} S/.{abs(comida - aporte_individual):.2f}\")\n",
        "\n",
        "except:\n",
        "  print(\"Ingresar solo valores numéricos\")"
      ],
      "metadata": {
        "id": "SGjH-m_mrom9",
        "colab": {
          "base_uri": "https://localhost:8080/"
        },
        "outputId": "9326dcad-9523-474c-ff65-a1837d0fdd50"
      },
      "execution_count": 17,
      "outputs": [
        {
          "output_type": "stream",
          "name": "stdout",
          "text": [
            "Ingresar el monto que pagó Ana por la gasolina: 10\n",
            "Ingresar el monto que pagó Luis por los peajes: 20\n",
            "Ingresar el monto que pagó Carla por la comida: 67\n",
            "\n",
            "Gasto total del viaje: S/.97.00\n",
            "Cada uno debió pagar: S/.32.33\n",
            "\n",
            "Mostrar los montos que cada uno debe dar o recibir:\n",
            "Ana debe pagar S/.22.33\n",
            "Luis debe pagar S/.12.33\n",
            "Carla debe recibir S/.34.67\n"
          ]
        }
      ]
    },
    {
      "cell_type": "markdown",
      "source": [
        "**Ejercicio 6: Tiempo total de estudio**\n",
        "\n",
        "Solicita al usuario cuántas horas estudió en 4 materias distintas.\n",
        "\n",
        "Muestra el total de horas de estudio en la semana y el promedio diario (considerando 7 días).\n"
      ],
      "metadata": {
        "id": "skhBiCaCro5l"
      }
    },
    {
      "cell_type": "code",
      "source": [
        "try:\n",
        "  materia1 = float(input(\"Ingresar número de horas estudiadas en la materia 1: \"))\n",
        "  materia2 = float(input(\"Ingresar número de horas estudiadas en la materia 2: \"))\n",
        "  materia3 = float(input(\"Ingresar número de horas estudiadas en la materia 3: \"))\n",
        "  materia4 = float(input(\"Ingresar número de horas estudiadas en la materia 4: \"))\n",
        "\n",
        "  total_horas = materia1 + materia2 + materia3 + materia4\n",
        "\n",
        "  promedio_diario = total_horas / 7\n",
        "\n",
        "  # Mostrar los resultados\n",
        "  print(f\"\\nTotal de horas estudiadas en la semana: {total_horas:.2f} horas\")\n",
        "  print(f\"Promedio diario de estudio: {promedio_diario:.2f} horas por día\")\n",
        "\n",
        "except:\n",
        "  print(\"Ingrese solo valores numericos enteros o decimales\")"
      ],
      "metadata": {
        "id": "HnFuV1RPrqXQ",
        "colab": {
          "base_uri": "https://localhost:8080/"
        },
        "outputId": "990476a9-551c-456d-d367-69be3219f617"
      },
      "execution_count": 23,
      "outputs": [
        {
          "output_type": "stream",
          "name": "stdout",
          "text": [
            "Ingresar número de horas estudiadas en la materia 1: 1\n",
            "Ingresar número de horas estudiadas en la materia 2: 3\n",
            "Ingresar número de horas estudiadas en la materia 3: 4\n",
            "Ingresar número de horas estudiadas en la materia 4: 6.234\n",
            "\n",
            "Total de horas estudiadas en la semana: 14.23 horas\n",
            "Promedio diario de estudio: 2.03 horas por día\n"
          ]
        }
      ]
    },
    {
      "cell_type": "markdown",
      "source": [
        "**Ejercicio 7: Nombre codificado (nivel string)**\n",
        "\n",
        "Pide al usuario su nombre completo y muestra:\n",
        "\n",
        "* La cantidad de caracteres (con len())\n",
        "* Su nombre todo en mayúsculas (.upper())\n",
        "* Su nombre todo en minúsculas (.lower())\n"
      ],
      "metadata": {
        "id": "rNjtOXKWrqs5"
      }
    },
    {
      "cell_type": "code",
      "source": [
        "nombre = input(\"Ingresa tu nombre completo: \")\n",
        "\n",
        "# Mostrar el número de caracteres\n",
        "print(f\"\\nNúmero de caracteres: {len(nombre)}\")\n",
        "\n",
        "# Mostrar el nombre en mayúsculas\n",
        "print(f\"Nombre en mayúsculas: {nombre.upper()}\")\n",
        "\n",
        "# Mostrar el nombre en minúsculas\n",
        "print(f\"Nombre en minúsculas: {nombre.lower()}\")"
      ],
      "metadata": {
        "id": "GnGm74GXrsL0",
        "colab": {
          "base_uri": "https://localhost:8080/"
        },
        "outputId": "e9f0faa2-a915-4c07-a0da-445b7220ad5d"
      },
      "execution_count": 25,
      "outputs": [
        {
          "output_type": "stream",
          "name": "stdout",
          "text": [
            "Ingresa tu nombre completo: Kevin\n",
            "\n",
            "Número de caracteres: 5\n",
            "Nombre en mayúsculas: KEVIN\n",
            "Nombre en minúsculas: kevin\n"
          ]
        }
      ]
    },
    {
      "cell_type": "code",
      "source": [],
      "metadata": {
        "id": "V8qI2dKnoQUK"
      },
      "execution_count": null,
      "outputs": []
    },
    {
      "cell_type": "markdown",
      "source": [
        "**Ejercicio 8: Frase repetida**\n",
        "\n",
        "Pide una frase y un número n, y muestra la frase repetida n veces, cada una en una línea.\n",
        "\n",
        "* Pista: print(frase * n)  # y/o con '\\n'"
      ],
      "metadata": {
        "id": "lrhPyjmWrse2"
      }
    },
    {
      "cell_type": "code",
      "source": [
        "try:\n",
        "  frase = input(\"Escribe una frase: \")\n",
        "  n = int(input(\"¿Cuántas veces quieres repetirla?: \"))\n",
        "\n",
        "  # Mostrar la frase repetida n veces, una por línea\n",
        "  print(\"\\n\" + (frase + '\\n') * n)\n",
        "\n",
        "except:\n",
        "  print(\"¡Por favor, ingresa un número entero válido para la cantidad de repeticiones!\")"
      ],
      "metadata": {
        "id": "Vzef3t_Lru0p",
        "colab": {
          "base_uri": "https://localhost:8080/"
        },
        "outputId": "93fef723-0b5c-4198-da6e-2ca366a41630"
      },
      "execution_count": 34,
      "outputs": [
        {
          "output_type": "stream",
          "name": "stdout",
          "text": [
            "Escribe una frase: hola\n",
            "¿Cuántas veces quieres repetirla?: 5\n",
            "\n",
            "hola\n",
            "hola\n",
            "hola\n",
            "hola\n",
            "hola\n",
            "\n"
          ]
        }
      ]
    },
    {
      "cell_type": "code",
      "source": [
        "import pandas as pd\n",
        "\n",
        "# Solicitar al usuario que ingrese una frase\n",
        "frase = input(\"Escribe una frase: \")\n",
        "n = int(input(\"¿Cuántas veces quieres repetirla?: \"))\n",
        "\n",
        "# Crear un DataFrame con la frase\n",
        "df = pd.DataFrame({\n",
        "    \"Frase ingresada\": [frase]*n\n",
        "})\n",
        "\n",
        "# Mostrar la tabla\n",
        "df"
      ],
      "metadata": {
        "colab": {
          "base_uri": "https://localhost:8080/",
          "height": 274
        },
        "id": "CfUY8F1lrbSg",
        "outputId": "f72efe5f-f4a4-45de-9008-edca201395e3"
      },
      "execution_count": 38,
      "outputs": [
        {
          "name": "stdout",
          "output_type": "stream",
          "text": [
            "Escribe una frase: PROGRAMACION 101\n",
            "¿Cuántas veces quieres repetirla?: 6\n"
          ]
        },
        {
          "output_type": "execute_result",
          "data": {
            "text/plain": [
              "    Frase ingresada\n",
              "0  PROGRAMACION 101\n",
              "1  PROGRAMACION 101\n",
              "2  PROGRAMACION 101\n",
              "3  PROGRAMACION 101\n",
              "4  PROGRAMACION 101\n",
              "5  PROGRAMACION 101"
            ],
            "text/html": [
              "\n",
              "  <div id=\"df-5511d04f-97e5-4461-9111-e215e2daeb57\" class=\"colab-df-container\">\n",
              "    <div>\n",
              "<style scoped>\n",
              "    .dataframe tbody tr th:only-of-type {\n",
              "        vertical-align: middle;\n",
              "    }\n",
              "\n",
              "    .dataframe tbody tr th {\n",
              "        vertical-align: top;\n",
              "    }\n",
              "\n",
              "    .dataframe thead th {\n",
              "        text-align: right;\n",
              "    }\n",
              "</style>\n",
              "<table border=\"1\" class=\"dataframe\">\n",
              "  <thead>\n",
              "    <tr style=\"text-align: right;\">\n",
              "      <th></th>\n",
              "      <th>Frase ingresada</th>\n",
              "    </tr>\n",
              "  </thead>\n",
              "  <tbody>\n",
              "    <tr>\n",
              "      <th>0</th>\n",
              "      <td>PROGRAMACION 101</td>\n",
              "    </tr>\n",
              "    <tr>\n",
              "      <th>1</th>\n",
              "      <td>PROGRAMACION 101</td>\n",
              "    </tr>\n",
              "    <tr>\n",
              "      <th>2</th>\n",
              "      <td>PROGRAMACION 101</td>\n",
              "    </tr>\n",
              "    <tr>\n",
              "      <th>3</th>\n",
              "      <td>PROGRAMACION 101</td>\n",
              "    </tr>\n",
              "    <tr>\n",
              "      <th>4</th>\n",
              "      <td>PROGRAMACION 101</td>\n",
              "    </tr>\n",
              "    <tr>\n",
              "      <th>5</th>\n",
              "      <td>PROGRAMACION 101</td>\n",
              "    </tr>\n",
              "  </tbody>\n",
              "</table>\n",
              "</div>\n",
              "    <div class=\"colab-df-buttons\">\n",
              "\n",
              "  <div class=\"colab-df-container\">\n",
              "    <button class=\"colab-df-convert\" onclick=\"convertToInteractive('df-5511d04f-97e5-4461-9111-e215e2daeb57')\"\n",
              "            title=\"Convert this dataframe to an interactive table.\"\n",
              "            style=\"display:none;\">\n",
              "\n",
              "  <svg xmlns=\"http://www.w3.org/2000/svg\" height=\"24px\" viewBox=\"0 -960 960 960\">\n",
              "    <path d=\"M120-120v-720h720v720H120Zm60-500h600v-160H180v160Zm220 220h160v-160H400v160Zm0 220h160v-160H400v160ZM180-400h160v-160H180v160Zm440 0h160v-160H620v160ZM180-180h160v-160H180v160Zm440 0h160v-160H620v160Z\"/>\n",
              "  </svg>\n",
              "    </button>\n",
              "\n",
              "  <style>\n",
              "    .colab-df-container {\n",
              "      display:flex;\n",
              "      gap: 12px;\n",
              "    }\n",
              "\n",
              "    .colab-df-convert {\n",
              "      background-color: #E8F0FE;\n",
              "      border: none;\n",
              "      border-radius: 50%;\n",
              "      cursor: pointer;\n",
              "      display: none;\n",
              "      fill: #1967D2;\n",
              "      height: 32px;\n",
              "      padding: 0 0 0 0;\n",
              "      width: 32px;\n",
              "    }\n",
              "\n",
              "    .colab-df-convert:hover {\n",
              "      background-color: #E2EBFA;\n",
              "      box-shadow: 0px 1px 2px rgba(60, 64, 67, 0.3), 0px 1px 3px 1px rgba(60, 64, 67, 0.15);\n",
              "      fill: #174EA6;\n",
              "    }\n",
              "\n",
              "    .colab-df-buttons div {\n",
              "      margin-bottom: 4px;\n",
              "    }\n",
              "\n",
              "    [theme=dark] .colab-df-convert {\n",
              "      background-color: #3B4455;\n",
              "      fill: #D2E3FC;\n",
              "    }\n",
              "\n",
              "    [theme=dark] .colab-df-convert:hover {\n",
              "      background-color: #434B5C;\n",
              "      box-shadow: 0px 1px 3px 1px rgba(0, 0, 0, 0.15);\n",
              "      filter: drop-shadow(0px 1px 2px rgba(0, 0, 0, 0.3));\n",
              "      fill: #FFFFFF;\n",
              "    }\n",
              "  </style>\n",
              "\n",
              "    <script>\n",
              "      const buttonEl =\n",
              "        document.querySelector('#df-5511d04f-97e5-4461-9111-e215e2daeb57 button.colab-df-convert');\n",
              "      buttonEl.style.display =\n",
              "        google.colab.kernel.accessAllowed ? 'block' : 'none';\n",
              "\n",
              "      async function convertToInteractive(key) {\n",
              "        const element = document.querySelector('#df-5511d04f-97e5-4461-9111-e215e2daeb57');\n",
              "        const dataTable =\n",
              "          await google.colab.kernel.invokeFunction('convertToInteractive',\n",
              "                                                    [key], {});\n",
              "        if (!dataTable) return;\n",
              "\n",
              "        const docLinkHtml = 'Like what you see? Visit the ' +\n",
              "          '<a target=\"_blank\" href=https://colab.research.google.com/notebooks/data_table.ipynb>data table notebook</a>'\n",
              "          + ' to learn more about interactive tables.';\n",
              "        element.innerHTML = '';\n",
              "        dataTable['output_type'] = 'display_data';\n",
              "        await google.colab.output.renderOutput(dataTable, element);\n",
              "        const docLink = document.createElement('div');\n",
              "        docLink.innerHTML = docLinkHtml;\n",
              "        element.appendChild(docLink);\n",
              "      }\n",
              "    </script>\n",
              "  </div>\n",
              "\n",
              "\n",
              "<div id=\"df-4809806a-553d-4a48-a537-7d836041101e\">\n",
              "  <button class=\"colab-df-quickchart\" onclick=\"quickchart('df-4809806a-553d-4a48-a537-7d836041101e')\"\n",
              "            title=\"Suggest charts\"\n",
              "            style=\"display:none;\">\n",
              "\n",
              "<svg xmlns=\"http://www.w3.org/2000/svg\" height=\"24px\"viewBox=\"0 0 24 24\"\n",
              "     width=\"24px\">\n",
              "    <g>\n",
              "        <path d=\"M19 3H5c-1.1 0-2 .9-2 2v14c0 1.1.9 2 2 2h14c1.1 0 2-.9 2-2V5c0-1.1-.9-2-2-2zM9 17H7v-7h2v7zm4 0h-2V7h2v10zm4 0h-2v-4h2v4z\"/>\n",
              "    </g>\n",
              "</svg>\n",
              "  </button>\n",
              "\n",
              "<style>\n",
              "  .colab-df-quickchart {\n",
              "      --bg-color: #E8F0FE;\n",
              "      --fill-color: #1967D2;\n",
              "      --hover-bg-color: #E2EBFA;\n",
              "      --hover-fill-color: #174EA6;\n",
              "      --disabled-fill-color: #AAA;\n",
              "      --disabled-bg-color: #DDD;\n",
              "  }\n",
              "\n",
              "  [theme=dark] .colab-df-quickchart {\n",
              "      --bg-color: #3B4455;\n",
              "      --fill-color: #D2E3FC;\n",
              "      --hover-bg-color: #434B5C;\n",
              "      --hover-fill-color: #FFFFFF;\n",
              "      --disabled-bg-color: #3B4455;\n",
              "      --disabled-fill-color: #666;\n",
              "  }\n",
              "\n",
              "  .colab-df-quickchart {\n",
              "    background-color: var(--bg-color);\n",
              "    border: none;\n",
              "    border-radius: 50%;\n",
              "    cursor: pointer;\n",
              "    display: none;\n",
              "    fill: var(--fill-color);\n",
              "    height: 32px;\n",
              "    padding: 0;\n",
              "    width: 32px;\n",
              "  }\n",
              "\n",
              "  .colab-df-quickchart:hover {\n",
              "    background-color: var(--hover-bg-color);\n",
              "    box-shadow: 0 1px 2px rgba(60, 64, 67, 0.3), 0 1px 3px 1px rgba(60, 64, 67, 0.15);\n",
              "    fill: var(--button-hover-fill-color);\n",
              "  }\n",
              "\n",
              "  .colab-df-quickchart-complete:disabled,\n",
              "  .colab-df-quickchart-complete:disabled:hover {\n",
              "    background-color: var(--disabled-bg-color);\n",
              "    fill: var(--disabled-fill-color);\n",
              "    box-shadow: none;\n",
              "  }\n",
              "\n",
              "  .colab-df-spinner {\n",
              "    border: 2px solid var(--fill-color);\n",
              "    border-color: transparent;\n",
              "    border-bottom-color: var(--fill-color);\n",
              "    animation:\n",
              "      spin 1s steps(1) infinite;\n",
              "  }\n",
              "\n",
              "  @keyframes spin {\n",
              "    0% {\n",
              "      border-color: transparent;\n",
              "      border-bottom-color: var(--fill-color);\n",
              "      border-left-color: var(--fill-color);\n",
              "    }\n",
              "    20% {\n",
              "      border-color: transparent;\n",
              "      border-left-color: var(--fill-color);\n",
              "      border-top-color: var(--fill-color);\n",
              "    }\n",
              "    30% {\n",
              "      border-color: transparent;\n",
              "      border-left-color: var(--fill-color);\n",
              "      border-top-color: var(--fill-color);\n",
              "      border-right-color: var(--fill-color);\n",
              "    }\n",
              "    40% {\n",
              "      border-color: transparent;\n",
              "      border-right-color: var(--fill-color);\n",
              "      border-top-color: var(--fill-color);\n",
              "    }\n",
              "    60% {\n",
              "      border-color: transparent;\n",
              "      border-right-color: var(--fill-color);\n",
              "    }\n",
              "    80% {\n",
              "      border-color: transparent;\n",
              "      border-right-color: var(--fill-color);\n",
              "      border-bottom-color: var(--fill-color);\n",
              "    }\n",
              "    90% {\n",
              "      border-color: transparent;\n",
              "      border-bottom-color: var(--fill-color);\n",
              "    }\n",
              "  }\n",
              "</style>\n",
              "\n",
              "  <script>\n",
              "    async function quickchart(key) {\n",
              "      const quickchartButtonEl =\n",
              "        document.querySelector('#' + key + ' button');\n",
              "      quickchartButtonEl.disabled = true;  // To prevent multiple clicks.\n",
              "      quickchartButtonEl.classList.add('colab-df-spinner');\n",
              "      try {\n",
              "        const charts = await google.colab.kernel.invokeFunction(\n",
              "            'suggestCharts', [key], {});\n",
              "      } catch (error) {\n",
              "        console.error('Error during call to suggestCharts:', error);\n",
              "      }\n",
              "      quickchartButtonEl.classList.remove('colab-df-spinner');\n",
              "      quickchartButtonEl.classList.add('colab-df-quickchart-complete');\n",
              "    }\n",
              "    (() => {\n",
              "      let quickchartButtonEl =\n",
              "        document.querySelector('#df-4809806a-553d-4a48-a537-7d836041101e button');\n",
              "      quickchartButtonEl.style.display =\n",
              "        google.colab.kernel.accessAllowed ? 'block' : 'none';\n",
              "    })();\n",
              "  </script>\n",
              "</div>\n",
              "\n",
              "  <div id=\"id_b754bea3-f2f5-4929-97a2-a1c65ec0e9c9\">\n",
              "    <style>\n",
              "      .colab-df-generate {\n",
              "        background-color: #E8F0FE;\n",
              "        border: none;\n",
              "        border-radius: 50%;\n",
              "        cursor: pointer;\n",
              "        display: none;\n",
              "        fill: #1967D2;\n",
              "        height: 32px;\n",
              "        padding: 0 0 0 0;\n",
              "        width: 32px;\n",
              "      }\n",
              "\n",
              "      .colab-df-generate:hover {\n",
              "        background-color: #E2EBFA;\n",
              "        box-shadow: 0px 1px 2px rgba(60, 64, 67, 0.3), 0px 1px 3px 1px rgba(60, 64, 67, 0.15);\n",
              "        fill: #174EA6;\n",
              "      }\n",
              "\n",
              "      [theme=dark] .colab-df-generate {\n",
              "        background-color: #3B4455;\n",
              "        fill: #D2E3FC;\n",
              "      }\n",
              "\n",
              "      [theme=dark] .colab-df-generate:hover {\n",
              "        background-color: #434B5C;\n",
              "        box-shadow: 0px 1px 3px 1px rgba(0, 0, 0, 0.15);\n",
              "        filter: drop-shadow(0px 1px 2px rgba(0, 0, 0, 0.3));\n",
              "        fill: #FFFFFF;\n",
              "      }\n",
              "    </style>\n",
              "    <button class=\"colab-df-generate\" onclick=\"generateWithVariable('df')\"\n",
              "            title=\"Generate code using this dataframe.\"\n",
              "            style=\"display:none;\">\n",
              "\n",
              "  <svg xmlns=\"http://www.w3.org/2000/svg\" height=\"24px\"viewBox=\"0 0 24 24\"\n",
              "       width=\"24px\">\n",
              "    <path d=\"M7,19H8.4L18.45,9,17,7.55,7,17.6ZM5,21V16.75L18.45,3.32a2,2,0,0,1,2.83,0l1.4,1.43a1.91,1.91,0,0,1,.58,1.4,1.91,1.91,0,0,1-.58,1.4L9.25,21ZM18.45,9,17,7.55Zm-12,3A5.31,5.31,0,0,0,4.9,8.1,5.31,5.31,0,0,0,1,6.5,5.31,5.31,0,0,0,4.9,4.9,5.31,5.31,0,0,0,6.5,1,5.31,5.31,0,0,0,8.1,4.9,5.31,5.31,0,0,0,12,6.5,5.46,5.46,0,0,0,6.5,12Z\"/>\n",
              "  </svg>\n",
              "    </button>\n",
              "    <script>\n",
              "      (() => {\n",
              "      const buttonEl =\n",
              "        document.querySelector('#id_b754bea3-f2f5-4929-97a2-a1c65ec0e9c9 button.colab-df-generate');\n",
              "      buttonEl.style.display =\n",
              "        google.colab.kernel.accessAllowed ? 'block' : 'none';\n",
              "\n",
              "      buttonEl.onclick = () => {\n",
              "        google.colab.notebook.generateWithVariable('df');\n",
              "      }\n",
              "      })();\n",
              "    </script>\n",
              "  </div>\n",
              "\n",
              "    </div>\n",
              "  </div>\n"
            ],
            "application/vnd.google.colaboratory.intrinsic+json": {
              "type": "dataframe",
              "variable_name": "df",
              "summary": "{\n  \"name\": \"df\",\n  \"rows\": 6,\n  \"fields\": [\n    {\n      \"column\": \"Frase ingresada\",\n      \"properties\": {\n        \"dtype\": \"category\",\n        \"num_unique_values\": 1,\n        \"samples\": [\n          \"PROGRAMACION 101\"\n        ],\n        \"semantic_type\": \"\",\n        \"description\": \"\"\n      }\n    }\n  ]\n}"
            }
          },
          "metadata": {},
          "execution_count": 38
        }
      ]
    },
    {
      "cell_type": "markdown",
      "source": [
        "**Ejercicio 9: División de cuentas**\n",
        "\n",
        "Un grupo de amigos pide una cuenta por S/ 250.\n",
        "Pide al usuario cuántas personas están en el grupo y muestra cuánto debe pagar cada uno.\n",
        "\n",
        "Asegúrate de redondear el resultado a 2 decimales.\n",
        "\n",
        "* Pista: Usa la funcion round()"
      ],
      "metadata": {
        "id": "5NpbbGR_rvNH"
      }
    },
    {
      "cell_type": "code",
      "source": [
        "try:\n",
        "  personas = int(input(\"INGRESAR LA CANTIDAD DE PERSONAS QUE HAY EN EL GRUPO: \"))\n",
        "\n",
        "  if personas <= 0:\n",
        "        print(\"Debe haber al menos 1 persona.\")\n",
        "  else:\n",
        "    pago_personal = round(250 / personas, 2)   #Total de la cuenta = 250 soles\n",
        "\n",
        "    print(f\"\\nCada persona debe pagar: S/.{pago_personal}\")\n",
        "\n",
        "except :\n",
        "  print(\"Ingresar un número entero\")"
      ],
      "metadata": {
        "id": "uMxuVCUVrvj6",
        "colab": {
          "base_uri": "https://localhost:8080/"
        },
        "outputId": "556936be-2c5f-4e65-88bf-a22b769b7d71"
      },
      "execution_count": 44,
      "outputs": [
        {
          "output_type": "stream",
          "name": "stdout",
          "text": [
            "INGRESAR LA CANTIDAD DE PERSONAS QUE HAY EN EL GRUPO: 0\n",
            "Debe haber al menos 1 persona.\n"
          ]
        }
      ]
    },
    {
      "cell_type": "markdown",
      "source": [
        "**Ejercicio 10: Calendario de clases**\n",
        "\n",
        "Pide cuántas horas se estudia en promedio por día, y cuántos días tiene el mes.\n",
        "\n",
        "Calcula cuántas horas de estudio habrá ese mes."
      ],
      "metadata": {
        "id": "p3PYp0l4pxuI"
      }
    },
    {
      "cell_type": "code",
      "source": [
        "try:\n",
        "  horas = float(input(\"Ingresar el número de horas promedio por días que estudias (entero o decimal): \"))\n",
        "  dias = int(input(\"Ingresar el número de días del mes: \"))\n",
        "\n",
        "  total_horas = horas * dias\n",
        "\n",
        "  # Mostrar resultado\n",
        "  print(f\"\\nEstudiarás {total_horas:.2f} horas en el mes.\")\n",
        "\n",
        "except:\n",
        "  print(\"Ingresa valores numéricos válidos!\")"
      ],
      "metadata": {
        "id": "y1bXFffhrxk2",
        "colab": {
          "base_uri": "https://localhost:8080/"
        },
        "outputId": "feb6fd88-f4b3-4e97-e2b6-1509adb36230"
      },
      "execution_count": 43,
      "outputs": [
        {
          "output_type": "stream",
          "name": "stdout",
          "text": [
            "Ingresar el número de horas promedio por días que estudias (entero o decimal): 5\n",
            "Ingresar el número de días del mes: 29\n",
            "\n",
            "Estudiarás 145.00 horas en el mes.\n"
          ]
        }
      ]
    },
    {
      "cell_type": "markdown",
      "source": [
        "---\n",
        "\n",
        "# Gracias por completar este laboratorio!\n",
        "\n",
        "---\n"
      ],
      "metadata": {
        "id": "8_ZocYoOrx3Z"
      }
    },
    {
      "cell_type": "code",
      "source": [],
      "metadata": {
        "id": "gOg-Hallt-A6"
      },
      "execution_count": null,
      "outputs": []
    }
  ]
}