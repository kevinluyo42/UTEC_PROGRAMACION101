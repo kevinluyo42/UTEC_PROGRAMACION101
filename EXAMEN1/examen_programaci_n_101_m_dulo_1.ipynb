{
  "nbformat": 4,
  "nbformat_minor": 0,
  "metadata": {
    "colab": {
      "provenance": [],
      "include_colab_link": true
    },
    "kernelspec": {
      "name": "python3",
      "display_name": "Python 3"
    },
    "language_info": {
      "name": "python"
    }
  },
  "cells": [
    {
      "cell_type": "markdown",
      "metadata": {
        "id": "view-in-github",
        "colab_type": "text"
      },
      "source": [
        "<a href=\"https://colab.research.google.com/github/kevinluyo42/UTEC_PROGRAMACION101/blob/main/EXAMEN1/examen_programaci_n_101_m_dulo_1.ipynb\" target=\"_parent\"><img src=\"https://colab.research.google.com/assets/colab-badge.svg\" alt=\"Open In Colab\"/></a>"
      ]
    },
    {
      "cell_type": "markdown",
      "source": [
        "<img src=\"https://posgrado.utec.edu.pe/sites/default/files/2023-08/Testimonial-home-2.jpg\" alt=\"HTML5 Icon\" width=\"900\" height=\"250\" >\n"
      ],
      "metadata": {
        "id": "ub41hbIV6UQ6"
      }
    },
    {
      "cell_type": "markdown",
      "source": [
        "#**Examen Programación 101 – Módulo 1**\n"
      ],
      "metadata": {
        "id": "zpZSxKDI51_7"
      }
    },
    {
      "cell_type": "markdown",
      "source": [
        "**Contexto**\n",
        "\n",
        "Estás colaborando en el diseño de un sistema básico de autenticación y validación de datos para una empresa tecnológica en expansión. El sistema debe realizar verificaciones fundamentales sobre usuarios, contraseñas, códigos de acceso e identificadores, utilizando únicamente estructuras condicionales y operaciones básicas, dado que el prototipo está pensado para funcionar en dispositivos con capacidad de cómputo muy limitada.\n",
        "\n",
        "Cada pregunta del examen representa uno de los desafíos que debes resolver en este sistema: desde validar un código, clasificar niveles de acceso, hasta verificar si una entrada cumple con múltiples criterios simultáneamente."
      ],
      "metadata": {
        "id": "qphDGB6eAe-K"
      }
    },
    {
      "cell_type": "markdown",
      "source": [
        "\n",
        "\n",
        "**Nombre y Apellido:**\n",
        "\n",
        "---"
      ],
      "metadata": {
        "id": "_MYFZY5D97r5"
      }
    },
    {
      "cell_type": "markdown",
      "source": [
        "Duración: 45 minutos\n",
        "\n",
        "**Instrucciones**\n",
        "\n",
        "1. No está permitido el uso de funciones (def), bucles (for, while)\n",
        "\n",
        "2. Puedes utilizar:\n",
        "\n",
        "  * Asignación de variables\n",
        "  * Operadores aritméticos y lógicos\n",
        "  * Condicionales (if, elif, else)\n",
        "  * Funciones input() y print()\n",
        "\n",
        "3. Se evaluará no solo la respuesta correcta, sino también la claridad, buenas prácticas, uso correcto de tipos de datos y estructura lógica.\n",
        "\n",
        "---"
      ],
      "metadata": {
        "id": "VInsS6-u7MUH"
      }
    },
    {
      "cell_type": "markdown",
      "source": [
        "**Pregunta 1: Validación de Usuario**\n"
      ],
      "metadata": {
        "id": "xVGPY6H68IO_"
      }
    },
    {
      "cell_type": "markdown",
      "source": [
        "Escribe un programa que valide un usuario según estas reglas:\n",
        "\n",
        "* El usuario debe tener exactamente 5 caracteres.\n",
        "* El primer carácter debe ser mayúscula.\n",
        "* El último carácter debe ser un número.\n",
        "\n",
        "Imprime \"Usuario válido\" o \"Usuario inválido\" según corresponda."
      ],
      "metadata": {
        "id": "2mSAVboy8Q6m"
      }
    },
    {
      "cell_type": "code",
      "execution_count": null,
      "metadata": {
        "id": "mOSniL8V5jR4",
        "colab": {
          "base_uri": "https://localhost:8080/"
        },
        "outputId": "0dae60b6-3520-4a7a-a743-d9ada5084140"
      },
      "outputs": [
        {
          "output_type": "stream",
          "name": "stdout",
          "text": [
            "Ingrese usuarioKevin789\n",
            "Usuario inválido, el usuario no tiene 5 caracteres\n"
          ]
        }
      ],
      "source": [
        "#Declarar variable usuario:\n",
        "user = input(\"Ingrese usuario:\")\n",
        "\n",
        "if len(user)==5: #Condicion 5 caracteres\n",
        "  if user[0].isupper(): #Condicion primera letra mayuscula\n",
        "    if user[-1].isnumeric(): #Condicion ultimo caracter numero\n",
        "      print(\"Usuario válido\")\n",
        "    else:\n",
        "      print(\"Usuario inválido, último caracter no es número\")\n",
        "  else:\n",
        "    print(\"Usuario inválido, primer caracter no es una letra mayúscula\")\n",
        "else:\n",
        "  print(\"Usuario inválido, el usuario no tiene 5 caracteres\")"
      ]
    },
    {
      "cell_type": "markdown",
      "source": [
        "**Pregunta 2: Nivel de Seguridad Numérico**\n",
        "\n",
        "Pide tres dígitos separados al usuario usando input(). Luego:\n",
        "\n",
        "* Imprime \"ALTO\" si los tres dígitos son diferentes.\n",
        "* Imprime \"MEDIO\" si solo dos son iguales.\n",
        "* Imprime \"BAJO\" si los tres son iguales."
      ],
      "metadata": {
        "id": "ZI1HrCRe8uU6"
      }
    },
    {
      "cell_type": "code",
      "source": [
        "try:\n",
        "  digito1 = input(\"Ingrese el primer digito:\")\n",
        "  digito2 = input(\"Ingrese el segundo digito:\")\n",
        "  digito3 = input(\"Ingrese el tercer digito:\")\n",
        "\n",
        "  if (digito1 != digito2) and (digito1 != digito3) and (digito2 != digito3):\n",
        "    print(\"ALTO\")\n",
        "  elif sum([digito1 == digito2, digito1 == digito3, digito2 == digito3])==1: #Suma de \"true\" y \"false\" tiene que ser igual a 1\n",
        "    print(\"MEDIO\")\n",
        "  else:\n",
        "    print(\"BAJO\")\n",
        "except:\n",
        "  print(\"Error, ingrese solo digitos\")"
      ],
      "metadata": {
        "id": "hEUnfNCK88lF",
        "colab": {
          "base_uri": "https://localhost:8080/"
        },
        "outputId": "29e32427-9ee6-4f2d-da29-a2b3c0c327e4"
      },
      "execution_count": null,
      "outputs": [
        {
          "output_type": "stream",
          "name": "stdout",
          "text": [
            "Ingrese el primer digito:a\n",
            "Ingrese el segundo digito:b\n",
            "Ingrese el tercer digito:c\n",
            "ALTO\n"
          ]
        }
      ]
    },
    {
      "cell_type": "markdown",
      "source": [
        "**Pregunta 3: Código de Acceso**\n",
        "\n",
        "Pide al usuario ingresar un número entero de tres dígitos.\n",
        "Verifica si la suma de sus tres dígitos es exactamente 10:\n",
        "\n",
        "* Si lo es, imprime \"Código válido\".\n",
        "* Si no, imprime \"Código inválido\"."
      ],
      "metadata": {
        "id": "DaAUaft_9DMe"
      }
    },
    {
      "cell_type": "code",
      "source": [
        "try:\n",
        "  numero = int(input(\"Ingrese un numero entero:\"))\n",
        "  numero_str = str(numero)\n",
        "  if len(numero_str)==3:\n",
        "    suma = int(numero_str[0]) + int(numero_str[1]) + int(numero_str[2])\n",
        "    if suma == 10:\n",
        "      print(\"Código válido\")\n",
        "    else:\n",
        "      print(\"Código inválido\")\n",
        "  else:\n",
        "    print(\"El numero debe tener 3 digitos\")\n",
        "except:\n",
        "  print(\"Ingrese solo numeros enteros\")"
      ],
      "metadata": {
        "id": "Xa15jei89HaU",
        "colab": {
          "base_uri": "https://localhost:8080/"
        },
        "outputId": "1cedb441-bc3c-434e-e5cd-d6c72be24866"
      },
      "execution_count": null,
      "outputs": [
        {
          "output_type": "stream",
          "name": "stdout",
          "text": [
            "Ingrese un numero entero:244\n",
            "Código válido\n"
          ]
        }
      ]
    },
    {
      "cell_type": "markdown",
      "source": [
        "**Pregunta 4: Identificador de carácter**\n",
        "\n",
        "Pide al usuario un solo carácter y determina:\n",
        "\n",
        "* Si es vocal minúscula → \"Vocal minúscula\"\n",
        "* Si es vocal mayúscula → \"Vocal MAYÚSCULA\"\n",
        "* Si es número → \"Número\"\n",
        "* En cualquier otro caso → \"Símbolo especial\""
      ],
      "metadata": {
        "id": "zHCprzaP9fpB"
      }
    },
    {
      "cell_type": "code",
      "source": [
        "caracter = str(input(\"Ingresar caracter:\"))\n",
        "\n",
        "if len(caracter)==1:\n",
        "  if caracter in \"aeiou\":\n",
        "    print(\"Vocal minúscula\")\n",
        "  else:\n",
        "    if caracter in \"AEIOU\":\n",
        "      print(\"Vocal MAYÚSCULA\")\n",
        "    elif caracter in \"123456789\":\n",
        "      print(\"Número\")\n",
        "    else:\n",
        "      print(\"Símbolo especial\")\n",
        "else:\n",
        "  print(\"Ingrese solo un caracter\")"
      ],
      "metadata": {
        "id": "OvCpLVUT92uZ",
        "colab": {
          "base_uri": "https://localhost:8080/"
        },
        "outputId": "3ecc251b-2778-4749-847f-5b66080d3f32"
      },
      "execution_count": null,
      "outputs": [
        {
          "output_type": "stream",
          "name": "stdout",
          "text": [
            "Ingresar caracter:5\n",
            "Número\n"
          ]
        }
      ]
    },
    {
      "cell_type": "markdown",
      "source": [
        "**Pregunta 5: Verificación cruzada de identidad**\n",
        "\n",
        "Un sistema de validación recibe los siguientes tres datos como entrada:\n",
        "\n",
        "\n",
        "1. Un código de 6 caracteres (ej. \"A1b2C3\")\n",
        "2. Un número de 3 cifras (ej. 528)\n",
        "3. Una letra (ej. \"b\")\n",
        "\n",
        "El programa debe:\n",
        "\n",
        "* Verificar si:\n",
        "\n",
        "  1. El primer carácter del código es una letra mayúscula,\n",
        "  2. El último carácter del código es un número,\n",
        "  3. La suma de los tres dígitos del número es par, y\n",
        "  4. La letra ingresada se encuentra dentro del código sin distinguir mayúsculas/minúsculas.\n",
        "\n",
        "* Si todas las condiciones se cumplen, imprimir: \"Identidad verificada\"\n",
        "\n",
        "* Si alguna no se cumple, imprimir: \"Acceso denegado\""
      ],
      "metadata": {
        "id": "FJyAxh0I-0N8"
      }
    },
    {
      "cell_type": "code",
      "source": [
        "try:\n",
        "  codigo = str(input(\"Ingrese el codigo de 6 caracteres: \"))\n",
        "  numero = str(input(\"Ingrese el numero de 3 cifras: \"))\n",
        "  letra = str(input(\"Ingrese una letra\"))\n",
        "\n",
        "  condicion1 = (len(codigo)==6) and (codigo[0].isupper()) and (codigo[-1] in \"123456789\")\n",
        "  condicion2 = (int(numero[0]) + int(numero[1]) + int(numero[2])) % 2 == 0\n",
        "  condicion3 = letra.lower() in codigo.lower()\n",
        "\n",
        "  if condicion1 and condicion2 and condicion3:\n",
        "      print(\"Identidad verificada\")\n",
        "  else:\n",
        "      print(\"Acceso denegado\")\n",
        "except:\n",
        "  print(\"Ingrese valores aceptables\")"
      ],
      "metadata": {
        "id": "Z16sSPRc_TDH",
        "colab": {
          "base_uri": "https://localhost:8080/"
        },
        "outputId": "9c3f8860-5fd2-4709-cbb7-f9ce785e86cf"
      },
      "execution_count": null,
      "outputs": [
        {
          "output_type": "stream",
          "name": "stdout",
          "text": [
            "Ingrese el codigo de 6 caracteres: A34gt5\n",
            "Ingrese el numero de 3 cifras: 222\n",
            "Ingrese una letrag\n",
            "Identidad verificada\n"
          ]
        }
      ]
    },
    {
      "cell_type": "markdown",
      "source": [
        "---\n",
        "\n",
        "### Gracias por completar este examen!\n",
        "\n",
        "---\n"
      ],
      "metadata": {
        "id": "vWNdqa91-NiX"
      }
    }
  ]
}